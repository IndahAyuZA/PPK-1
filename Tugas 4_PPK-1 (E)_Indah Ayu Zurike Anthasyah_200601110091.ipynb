{
 "cells": [
  {
   "cell_type": "code",
   "execution_count": 1,
   "id": "3b7c9798",
   "metadata": {},
   "outputs": [
    {
     "name": "stdout",
     "output_type": "stream",
     "text": [
      "masukkan bilangan_awal: 3\n",
      "masukkan bilangan_kedua: 6\n",
      "daftar bilangan: [3, 4, 5, 6]\n",
      "genap: 4, 6\n",
      "ganjil: 3, 5\n"
     ]
    }
   ],
   "source": [
    "bilangan_awal = int(input('masukkan bilangan_awal: '))\n",
    "bilangan_kedua = int(input('masukkan bilangan_kedua: '))\n",
    "\n",
    "list_bilangan = [i for i in range(bilangan_awal, bilangan_kedua +1)]\n",
    "print('daftar bilangan: {}'.format(list_bilangan))\n",
    "\n",
    "bilangan_genap = []\n",
    "bilangan_ganjil = []\n",
    "\n",
    "for bilangan in list_bilangan:\n",
    "    if bilangan % 2 == 0:\n",
    "        bilangan_genap.append(bilangan)\n",
    "    else:\n",
    "        bilangan_ganjil.append(bilangan)\n",
    "\n",
    "print('genap: {}'.format(', '.join([str(bilangan)for bilangan in bilangan_genap])))\n",
    "print('ganjil: {}'.format(', '.join([str(bilangan)for bilangan in bilangan_ganjil])))"
   ]
  },
  {
   "cell_type": "code",
   "execution_count": null,
   "id": "a71c3f68",
   "metadata": {},
   "outputs": [],
   "source": []
  }
 ],
 "metadata": {
  "kernelspec": {
   "display_name": "Python 3 (ipykernel)",
   "language": "python",
   "name": "python3"
  },
  "language_info": {
   "codemirror_mode": {
    "name": "ipython",
    "version": 3
   },
   "file_extension": ".py",
   "mimetype": "text/x-python",
   "name": "python",
   "nbconvert_exporter": "python",
   "pygments_lexer": "ipython3",
   "version": "3.9.7"
  }
 },
 "nbformat": 4,
 "nbformat_minor": 5
}
