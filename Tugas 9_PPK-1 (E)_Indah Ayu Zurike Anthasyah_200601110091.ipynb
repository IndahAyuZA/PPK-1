{
 "cells": [
  {
   "cell_type": "markdown",
   "id": "73004ed1",
   "metadata": {},
   "source": [
    "# Pandas 3"
   ]
  },
  {
   "cell_type": "code",
   "execution_count": 1,
   "id": "321a45f4",
   "metadata": {},
   "outputs": [],
   "source": [
    "import pandas as pd\n",
    "import numpy as np"
   ]
  },
  {
   "cell_type": "code",
   "execution_count": 4,
   "id": "7f45414e",
   "metadata": {},
   "outputs": [],
   "source": [
    "data = [[1,20],[2,21],[4,19]]\n",
    "df = pd.DataFrame(data,columns=['Nama','Usia'])"
   ]
  },
  {
   "cell_type": "code",
   "execution_count": 5,
   "id": "f7fa8bc7",
   "metadata": {},
   "outputs": [
    {
     "name": "stdout",
     "output_type": "stream",
     "text": [
      "[[ 1 20]\n",
      " [ 2 21]\n",
      " [ 4 19]]\n"
     ]
    }
   ],
   "source": [
    "databaru = df.to_numpy()\n",
    "print(databaru)"
   ]
  },
  {
   "cell_type": "code",
   "execution_count": 6,
   "id": "6ff94922",
   "metadata": {},
   "outputs": [],
   "source": [
    "df.to_csv(\"dataexport.txt\")"
   ]
  },
  {
   "cell_type": "code",
   "execution_count": 7,
   "id": "e06c90d9",
   "metadata": {},
   "outputs": [],
   "source": [
    "df.to_csv(\"dataexport.csv\")"
   ]
  },
  {
   "cell_type": "code",
   "execution_count": 8,
   "id": "15fdf793",
   "metadata": {},
   "outputs": [],
   "source": [
    "writer = pd.ExcelWriter('dataexport.xlsx')\n",
    "df.to_excel(writer, 'DataFrame')\n",
    "writer.save()"
   ]
  },
  {
   "cell_type": "code",
   "execution_count": null,
   "id": "834ef34a",
   "metadata": {},
   "outputs": [],
   "source": []
  }
 ],
 "metadata": {
  "kernelspec": {
   "display_name": "Python 3 (ipykernel)",
   "language": "python",
   "name": "python3"
  },
  "language_info": {
   "codemirror_mode": {
    "name": "ipython",
    "version": 3
   },
   "file_extension": ".py",
   "mimetype": "text/x-python",
   "name": "python",
   "nbconvert_exporter": "python",
   "pygments_lexer": "ipython3",
   "version": "3.9.7"
  }
 },
 "nbformat": 4,
 "nbformat_minor": 5
}
