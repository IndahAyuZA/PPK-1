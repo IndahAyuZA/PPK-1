{
 "cells": [
  {
   "cell_type": "markdown",
   "id": "29ce1464",
   "metadata": {},
   "source": [
    "# Conditional if"
   ]
  },
  {
   "cell_type": "markdown",
   "id": "505816e7",
   "metadata": {},
   "source": [
    "Percobaan Conditional if"
   ]
  },
  {
   "cell_type": "code",
   "execution_count": 2,
   "id": "ceae18e5",
   "metadata": {},
   "outputs": [
    {
     "name": "stdout",
     "output_type": "stream",
     "text": [
      "Masukkan nilai Anda: 75\n",
      "Anda lulus ujian! SELAMAT!\n"
     ]
    }
   ],
   "source": [
    "nilai = input(\"Masukkan nilai Anda: \")\n",
    "if int(nilai) >= 70:\n",
    "    print(\"Anda lulus ujian! SELAMAT!\")"
   ]
  },
  {
   "cell_type": "markdown",
   "id": "b6ba8b4b",
   "metadata": {},
   "source": [
    "Percobaan Conditional if-else"
   ]
  },
  {
   "cell_type": "code",
   "execution_count": 3,
   "id": "9ffb2671",
   "metadata": {},
   "outputs": [
    {
     "name": "stdout",
     "output_type": "stream",
     "text": [
      "Masukkan nilai Anda: 65\n",
      "Anda belum lulus ujian!\n"
     ]
    }
   ],
   "source": [
    "nilai = input(\"Masukkan nilai Anda: \")\n",
    "if int(nilai) >= 70:\n",
    "    print(\"Anda lulus ujian! SELAMAT!\")\n",
    "else:\n",
    "    print(\"Anda belum lulus ujian!\")"
   ]
  },
  {
   "cell_type": "markdown",
   "id": "e9efabb9",
   "metadata": {},
   "source": [
    "Percobaan Conditional if-elif-else"
   ]
  },
  {
   "cell_type": "code",
   "execution_count": 4,
   "id": "963234f3",
   "metadata": {},
   "outputs": [
    {
     "name": "stdout",
     "output_type": "stream",
     "text": [
      "Masukkan nilai Anda: 125\n",
      "Nilai Anda TIDAK valid\n"
     ]
    }
   ],
   "source": [
    "nilai = input(\"Masukkan nilai Anda: \")\n",
    "if int(nilai) < 0 or int(nilai) > 100:\n",
    "    print(\"Nilai Anda TIDAK valid\")\n",
    "elif int(nilai) >= 70:\n",
    "    print(\"Anda lulus ujian! SELAMAT!\")\n",
    "else:\n",
    "    print(\"Anda belum lulus ujian!\")"
   ]
  },
  {
   "cell_type": "markdown",
   "id": "d692ea6c",
   "metadata": {},
   "source": [
    "# Looping"
   ]
  },
  {
   "cell_type": "markdown",
   "id": "e79c1c57",
   "metadata": {},
   "source": [
    "Percobaan While Loop "
   ]
  },
  {
   "cell_type": "code",
   "execution_count": 7,
   "id": "64ef6977",
   "metadata": {},
   "outputs": [
    {
     "name": "stdout",
     "output_type": "stream",
     "text": [
      "Masukkan nilai yang akan dihitung: 12\n"
     ]
    },
    {
     "data": {
      "text/plain": [
       "1"
      ]
     },
     "execution_count": 7,
     "metadata": {},
     "output_type": "execute_result"
    }
   ],
   "source": [
    "def faktorial(n):\n",
    "    fac = 1\n",
    "    i = 1\n",
    "    while i <= n:\n",
    "        fac = fac*i\n",
    "        i += 1\n",
    "        return fac\n",
    "angka = int(input(\"Masukkan nilai yang akan dihitung: \"))\n",
    "faktorial(angka)"
   ]
  },
  {
   "cell_type": "markdown",
   "id": "f07a4e07",
   "metadata": {},
   "source": [
    "Percobaan For Loop"
   ]
  },
  {
   "cell_type": "code",
   "execution_count": 8,
   "id": "a4a66b9f",
   "metadata": {},
   "outputs": [
    {
     "name": "stdout",
     "output_type": "stream",
     "text": [
      "1\n",
      "11\n",
      "31\n",
      "61\n",
      "101\n",
      "151\n"
     ]
    }
   ],
   "source": [
    "numbers = [1,10,20,30,40,50]\n",
    "sum = 0\n",
    "for number in numbers:\n",
    "    sum += number\n",
    "    print(sum)"
   ]
  },
  {
   "cell_type": "markdown",
   "id": "372903d7",
   "metadata": {},
   "source": [
    "Percobaan Looping dengan Break"
   ]
  },
  {
   "cell_type": "code",
   "execution_count": 10,
   "id": "94473b18",
   "metadata": {},
   "outputs": [
    {
     "name": "stdout",
     "output_type": "stream",
     "text": [
      "Masukkan Angka: 5\n",
      "Masukkan Angka: 11\n",
      "Masukkan Angka: 21\n",
      "Masukkan Angka: 53\n"
     ]
    }
   ],
   "source": [
    "b = 0\n",
    "while True:\n",
    "    angka = int(input(\"Masukkan Angka: \"))\n",
    "    b += angka\n",
    "    if b > 50:\n",
    "        break\n",
    "        print(\"Angka berhenti pada jumlah: \" + b)"
   ]
  },
  {
   "cell_type": "code",
   "execution_count": null,
   "id": "b91997ae",
   "metadata": {},
   "outputs": [],
   "source": []
  }
 ],
 "metadata": {
  "kernelspec": {
   "display_name": "Python 3 (ipykernel)",
   "language": "python",
   "name": "python3"
  },
  "language_info": {
   "codemirror_mode": {
    "name": "ipython",
    "version": 3
   },
   "file_extension": ".py",
   "mimetype": "text/x-python",
   "name": "python",
   "nbconvert_exporter": "python",
   "pygments_lexer": "ipython3",
   "version": "3.9.7"
  }
 },
 "nbformat": 4,
 "nbformat_minor": 5
}
